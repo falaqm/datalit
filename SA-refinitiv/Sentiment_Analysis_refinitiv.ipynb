{
 "cells": [
  {
   "cell_type": "code",
   "execution_count": 3,
   "metadata": {
    "colab": {
     "base_uri": "https://localhost:8080/",
     "height": 387
    },
    "colab_type": "code",
    "id": "nMx2UqrJFyw-",
    "outputId": "2a1da4e3-31d4-401f-f6b0-9f693ad8d9a6"
   },
   "outputs": [],
   "source": [
    "# !pip install pandas\n",
    "# !pip install tweepy\n",
    "# !pip install vaderSentiment"
   ]
  },
  {
   "cell_type": "code",
   "execution_count": 2,
   "metadata": {
    "colab": {},
    "colab_type": "code",
    "id": "VldzdttbGRT6"
   },
   "outputs": [],
   "source": [
    "import tweepy\n",
    "import pandas as pd\n",
    "from nltk.sentiment.vader import SentimentIntensityAnalyzer"
   ]
  },
  {
   "cell_type": "code",
   "execution_count": 4,
   "metadata": {
    "colab": {},
    "colab_type": "code",
    "id": "xoeDu5guGo-N"
   },
   "outputs": [],
   "source": [
    "#My Twitter API Authentication Variables\n",
    "consumer_key = 'xxxx'\n",
    "consumer_secret = 'xxxx'\n",
    "access_token = 'xxxx'\n",
    "access_token_secret = 'xxxx'"
   ]
  },
  {
   "cell_type": "code",
   "execution_count": 34,
   "metadata": {
    "colab": {
     "base_uri": "https://localhost:8080/",
     "height": 376
    },
    "colab_type": "code",
    "id": "i41rn4KkG-iz",
    "outputId": "0243083f-626d-4df7-e974-f51e1e9d7790"
   },
   "outputs": [],
   "source": [
    "auth = tweepy.OAuthHandler(consumer_key, consumer_secret)\n",
    "auth.set_access_token(access_token, access_token_secret)\n",
    "\n",
    "api = tweepy.API(auth)\n",
    "\n",
    "tweets = api.search('Refinitiv', count=200)"
   ]
  },
  {
   "cell_type": "code",
   "execution_count": 35,
   "metadata": {
    "colab": {
     "base_uri": "https://localhost:8080/",
     "height": 376
    },
    "colab_type": "code",
    "id": "i41rn4KkG-iz",
    "outputId": "0243083f-626d-4df7-e974-f51e1e9d7790",
    "scrolled": true
   },
   "outputs": [
    {
     "data": {
      "text/plain": [
       "Status(_api=<tweepy.api.API object at 0x000001636A2F7608>, _json={'created_at': 'Thu Sep 19 10:42:14 +0000 2019', 'id': 1174634800877101061, 'id_str': '1174634800877101061', 'text': \"RT @Refinitiv: High-quality data and partnering with an experienced operator allows you to harness AI's true potential. Contact us: https:/…\", 'truncated': False, 'entities': {'hashtags': [], 'symbols': [], 'user_mentions': [{'screen_name': 'Refinitiv', 'name': 'Refinitiv', 'id': 1014861853338398720, 'id_str': '1014861853338398720', 'indices': [3, 13]}], 'urls': []}, 'metadata': {'iso_language_code': 'en', 'result_type': 'recent'}, 'source': '<a href=\"https://mobile.twitter.com\" rel=\"nofollow\">Twitter Web App</a>', 'in_reply_to_status_id': None, 'in_reply_to_status_id_str': None, 'in_reply_to_user_id': None, 'in_reply_to_user_id_str': None, 'in_reply_to_screen_name': None, 'user': {'id': 1140079854815256576, 'id_str': '1140079854815256576', 'name': 'Vincent Jackson', 'screen_name': 'Vincent52848846', 'location': 'Brooklyn NY', 'description': '', 'url': None, 'entities': {'description': {'urls': []}}, 'protected': False, 'followers_count': 146, 'friends_count': 1384, 'listed_count': 0, 'created_at': 'Sun Jun 16 02:13:13 +0000 2019', 'favourites_count': 2156, 'utc_offset': None, 'time_zone': None, 'geo_enabled': False, 'verified': False, 'statuses_count': 1511, 'lang': None, 'contributors_enabled': False, 'is_translator': False, 'is_translation_enabled': False, 'profile_background_color': 'F5F8FA', 'profile_background_image_url': None, 'profile_background_image_url_https': None, 'profile_background_tile': False, 'profile_image_url': 'http://pbs.twimg.com/profile_images/1140687357672402944/0iVaOj2I_normal.jpg', 'profile_image_url_https': 'https://pbs.twimg.com/profile_images/1140687357672402944/0iVaOj2I_normal.jpg', 'profile_banner_url': 'https://pbs.twimg.com/profile_banners/1140079854815256576/1560796035', 'profile_link_color': '1DA1F2', 'profile_sidebar_border_color': 'C0DEED', 'profile_sidebar_fill_color': 'DDEEF6', 'profile_text_color': '333333', 'profile_use_background_image': True, 'has_extended_profile': True, 'default_profile': True, 'default_profile_image': False, 'following': False, 'follow_request_sent': False, 'notifications': False, 'translator_type': 'none'}, 'geo': None, 'coordinates': None, 'place': None, 'contributors': None, 'retweeted_status': {'created_at': 'Thu May 30 07:19:23 +0000 2019', 'id': 1133996309743112192, 'id_str': '1133996309743112192', 'text': \"High-quality data and partnering with an experienced operator allows you to harness AI's true potential. Contact us… https://t.co/QcvYDqIp20\", 'truncated': True, 'entities': {'hashtags': [], 'symbols': [], 'user_mentions': [], 'urls': [{'url': 'https://t.co/QcvYDqIp20', 'expanded_url': 'https://twitter.com/i/web/status/1133996309743112192', 'display_url': 'twitter.com/i/web/status/1…', 'indices': [117, 140]}]}, 'metadata': {'iso_language_code': 'en', 'result_type': 'recent'}, 'source': '<a href=\"https://ads-api.twitter.com\" rel=\"nofollow\">Twitter Ads Composer</a>', 'in_reply_to_status_id': None, 'in_reply_to_status_id_str': None, 'in_reply_to_user_id': None, 'in_reply_to_user_id_str': None, 'in_reply_to_screen_name': None, 'user': {'id': 1014861853338398720, 'id_str': '1014861853338398720', 'name': 'Refinitiv', 'screen_name': 'Refinitiv', 'location': 'Global', 'description': 'One of the world’s largest providers of financial markets data and infrastructure, serving 40k+ firms in 190+ countries. Data is just the beginning. #Refinitiv', 'url': 'https://t.co/cv4nr3WUwo', 'entities': {'url': {'urls': [{'url': 'https://t.co/cv4nr3WUwo', 'expanded_url': 'https://www.refinitiv.com', 'display_url': 'refinitiv.com', 'indices': [0, 23]}]}, 'description': {'urls': []}}, 'protected': False, 'followers_count': 9892, 'friends_count': 141, 'listed_count': 85, 'created_at': 'Thu Jul 05 13:21:35 +0000 2018', 'favourites_count': 107, 'utc_offset': None, 'time_zone': None, 'geo_enabled': False, 'verified': True, 'statuses_count': 1104, 'lang': None, 'contributors_enabled': False, 'is_translator': False, 'is_translation_enabled': False, 'profile_background_color': '000000', 'profile_background_image_url': 'http://abs.twimg.com/images/themes/theme1/bg.png', 'profile_background_image_url_https': 'https://abs.twimg.com/images/themes/theme1/bg.png', 'profile_background_tile': False, 'profile_image_url': 'http://pbs.twimg.com/profile_images/1046851925889638401/Hnw877Pl_normal.jpg', 'profile_image_url_https': 'https://pbs.twimg.com/profile_images/1046851925889638401/Hnw877Pl_normal.jpg', 'profile_banner_url': 'https://pbs.twimg.com/profile_banners/1014861853338398720/1557045840', 'profile_link_color': '001EFF', 'profile_sidebar_border_color': '000000', 'profile_sidebar_fill_color': '000000', 'profile_text_color': '000000', 'profile_use_background_image': False, 'has_extended_profile': False, 'default_profile': False, 'default_profile_image': False, 'following': False, 'follow_request_sent': False, 'notifications': False, 'translator_type': 'none'}, 'geo': None, 'coordinates': None, 'place': None, 'contributors': None, 'is_quote_status': False, 'retweet_count': 217, 'favorite_count': 2133, 'favorited': False, 'retweeted': False, 'possibly_sensitive': False, 'scopes': {'followers': False}, 'lang': 'en'}, 'is_quote_status': False, 'retweet_count': 217, 'favorite_count': 0, 'favorited': False, 'retweeted': False, 'lang': 'en'}, created_at=datetime.datetime(2019, 9, 19, 10, 42, 14), id=1174634800877101061, id_str='1174634800877101061', text=\"RT @Refinitiv: High-quality data and partnering with an experienced operator allows you to harness AI's true potential. Contact us: https:/…\", truncated=False, entities={'hashtags': [], 'symbols': [], 'user_mentions': [{'screen_name': 'Refinitiv', 'name': 'Refinitiv', 'id': 1014861853338398720, 'id_str': '1014861853338398720', 'indices': [3, 13]}], 'urls': []}, metadata={'iso_language_code': 'en', 'result_type': 'recent'}, source='Twitter Web App', source_url='https://mobile.twitter.com', in_reply_to_status_id=None, in_reply_to_status_id_str=None, in_reply_to_user_id=None, in_reply_to_user_id_str=None, in_reply_to_screen_name=None, author=User(_api=<tweepy.api.API object at 0x000001636A2F7608>, _json={'id': 1140079854815256576, 'id_str': '1140079854815256576', 'name': 'Vincent Jackson', 'screen_name': 'Vincent52848846', 'location': 'Brooklyn NY', 'description': '', 'url': None, 'entities': {'description': {'urls': []}}, 'protected': False, 'followers_count': 146, 'friends_count': 1384, 'listed_count': 0, 'created_at': 'Sun Jun 16 02:13:13 +0000 2019', 'favourites_count': 2156, 'utc_offset': None, 'time_zone': None, 'geo_enabled': False, 'verified': False, 'statuses_count': 1511, 'lang': None, 'contributors_enabled': False, 'is_translator': False, 'is_translation_enabled': False, 'profile_background_color': 'F5F8FA', 'profile_background_image_url': None, 'profile_background_image_url_https': None, 'profile_background_tile': False, 'profile_image_url': 'http://pbs.twimg.com/profile_images/1140687357672402944/0iVaOj2I_normal.jpg', 'profile_image_url_https': 'https://pbs.twimg.com/profile_images/1140687357672402944/0iVaOj2I_normal.jpg', 'profile_banner_url': 'https://pbs.twimg.com/profile_banners/1140079854815256576/1560796035', 'profile_link_color': '1DA1F2', 'profile_sidebar_border_color': 'C0DEED', 'profile_sidebar_fill_color': 'DDEEF6', 'profile_text_color': '333333', 'profile_use_background_image': True, 'has_extended_profile': True, 'default_profile': True, 'default_profile_image': False, 'following': False, 'follow_request_sent': False, 'notifications': False, 'translator_type': 'none'}, id=1140079854815256576, id_str='1140079854815256576', name='Vincent Jackson', screen_name='Vincent52848846', location='Brooklyn NY', description='', url=None, entities={'description': {'urls': []}}, protected=False, followers_count=146, friends_count=1384, listed_count=0, created_at=datetime.datetime(2019, 6, 16, 2, 13, 13), favourites_count=2156, utc_offset=None, time_zone=None, geo_enabled=False, verified=False, statuses_count=1511, lang=None, contributors_enabled=False, is_translator=False, is_translation_enabled=False, profile_background_color='F5F8FA', profile_background_image_url=None, profile_background_image_url_https=None, profile_background_tile=False, profile_image_url='http://pbs.twimg.com/profile_images/1140687357672402944/0iVaOj2I_normal.jpg', profile_image_url_https='https://pbs.twimg.com/profile_images/1140687357672402944/0iVaOj2I_normal.jpg', profile_banner_url='https://pbs.twimg.com/profile_banners/1140079854815256576/1560796035', profile_link_color='1DA1F2', profile_sidebar_border_color='C0DEED', profile_sidebar_fill_color='DDEEF6', profile_text_color='333333', profile_use_background_image=True, has_extended_profile=True, default_profile=True, default_profile_image=False, following=False, follow_request_sent=False, notifications=False, translator_type='none'), user=User(_api=<tweepy.api.API object at 0x000001636A2F7608>, _json={'id': 1140079854815256576, 'id_str': '1140079854815256576', 'name': 'Vincent Jackson', 'screen_name': 'Vincent52848846', 'location': 'Brooklyn NY', 'description': '', 'url': None, 'entities': {'description': {'urls': []}}, 'protected': False, 'followers_count': 146, 'friends_count': 1384, 'listed_count': 0, 'created_at': 'Sun Jun 16 02:13:13 +0000 2019', 'favourites_count': 2156, 'utc_offset': None, 'time_zone': None, 'geo_enabled': False, 'verified': False, 'statuses_count': 1511, 'lang': None, 'contributors_enabled': False, 'is_translator': False, 'is_translation_enabled': False, 'profile_background_color': 'F5F8FA', 'profile_background_image_url': None, 'profile_background_image_url_https': None, 'profile_background_tile': False, 'profile_image_url': 'http://pbs.twimg.com/profile_images/1140687357672402944/0iVaOj2I_normal.jpg', 'profile_image_url_https': 'https://pbs.twimg.com/profile_images/1140687357672402944/0iVaOj2I_normal.jpg', 'profile_banner_url': 'https://pbs.twimg.com/profile_banners/1140079854815256576/1560796035', 'profile_link_color': '1DA1F2', 'profile_sidebar_border_color': 'C0DEED', 'profile_sidebar_fill_color': 'DDEEF6', 'profile_text_color': '333333', 'profile_use_background_image': True, 'has_extended_profile': True, 'default_profile': True, 'default_profile_image': False, 'following': False, 'follow_request_sent': False, 'notifications': False, 'translator_type': 'none'}, id=1140079854815256576, id_str='1140079854815256576', name='Vincent Jackson', screen_name='Vincent52848846', location='Brooklyn NY', description='', url=None, entities={'description': {'urls': []}}, protected=False, followers_count=146, friends_count=1384, listed_count=0, created_at=datetime.datetime(2019, 6, 16, 2, 13, 13), favourites_count=2156, utc_offset=None, time_zone=None, geo_enabled=False, verified=False, statuses_count=1511, lang=None, contributors_enabled=False, is_translator=False, is_translation_enabled=False, profile_background_color='F5F8FA', profile_background_image_url=None, profile_background_image_url_https=None, profile_background_tile=False, profile_image_url='http://pbs.twimg.com/profile_images/1140687357672402944/0iVaOj2I_normal.jpg', profile_image_url_https='https://pbs.twimg.com/profile_images/1140687357672402944/0iVaOj2I_normal.jpg', profile_banner_url='https://pbs.twimg.com/profile_banners/1140079854815256576/1560796035', profile_link_color='1DA1F2', profile_sidebar_border_color='C0DEED', profile_sidebar_fill_color='DDEEF6', profile_text_color='333333', profile_use_background_image=True, has_extended_profile=True, default_profile=True, default_profile_image=False, following=False, follow_request_sent=False, notifications=False, translator_type='none'), geo=None, coordinates=None, place=None, contributors=None, retweeted_status=Status(_api=<tweepy.api.API object at 0x000001636A2F7608>, _json={'created_at': 'Thu May 30 07:19:23 +0000 2019', 'id': 1133996309743112192, 'id_str': '1133996309743112192', 'text': \"High-quality data and partnering with an experienced operator allows you to harness AI's true potential. Contact us… https://t.co/QcvYDqIp20\", 'truncated': True, 'entities': {'hashtags': [], 'symbols': [], 'user_mentions': [], 'urls': [{'url': 'https://t.co/QcvYDqIp20', 'expanded_url': 'https://twitter.com/i/web/status/1133996309743112192', 'display_url': 'twitter.com/i/web/status/1…', 'indices': [117, 140]}]}, 'metadata': {'iso_language_code': 'en', 'result_type': 'recent'}, 'source': '<a href=\"https://ads-api.twitter.com\" rel=\"nofollow\">Twitter Ads Composer</a>', 'in_reply_to_status_id': None, 'in_reply_to_status_id_str': None, 'in_reply_to_user_id': None, 'in_reply_to_user_id_str': None, 'in_reply_to_screen_name': None, 'user': {'id': 1014861853338398720, 'id_str': '1014861853338398720', 'name': 'Refinitiv', 'screen_name': 'Refinitiv', 'location': 'Global', 'description': 'One of the world’s largest providers of financial markets data and infrastructure, serving 40k+ firms in 190+ countries. Data is just the beginning. #Refinitiv', 'url': 'https://t.co/cv4nr3WUwo', 'entities': {'url': {'urls': [{'url': 'https://t.co/cv4nr3WUwo', 'expanded_url': 'https://www.refinitiv.com', 'display_url': 'refinitiv.com', 'indices': [0, 23]}]}, 'description': {'urls': []}}, 'protected': False, 'followers_count': 9892, 'friends_count': 141, 'listed_count': 85, 'created_at': 'Thu Jul 05 13:21:35 +0000 2018', 'favourites_count': 107, 'utc_offset': None, 'time_zone': None, 'geo_enabled': False, 'verified': True, 'statuses_count': 1104, 'lang': None, 'contributors_enabled': False, 'is_translator': False, 'is_translation_enabled': False, 'profile_background_color': '000000', 'profile_background_image_url': 'http://abs.twimg.com/images/themes/theme1/bg.png', 'profile_background_image_url_https': 'https://abs.twimg.com/images/themes/theme1/bg.png', 'profile_background_tile': False, 'profile_image_url': 'http://pbs.twimg.com/profile_images/1046851925889638401/Hnw877Pl_normal.jpg', 'profile_image_url_https': 'https://pbs.twimg.com/profile_images/1046851925889638401/Hnw877Pl_normal.jpg', 'profile_banner_url': 'https://pbs.twimg.com/profile_banners/1014861853338398720/1557045840', 'profile_link_color': '001EFF', 'profile_sidebar_border_color': '000000', 'profile_sidebar_fill_color': '000000', 'profile_text_color': '000000', 'profile_use_background_image': False, 'has_extended_profile': False, 'default_profile': False, 'default_profile_image': False, 'following': False, 'follow_request_sent': False, 'notifications': False, 'translator_type': 'none'}, 'geo': None, 'coordinates': None, 'place': None, 'contributors': None, 'is_quote_status': False, 'retweet_count': 217, 'favorite_count': 2133, 'favorited': False, 'retweeted': False, 'possibly_sensitive': False, 'scopes': {'followers': False}, 'lang': 'en'}, created_at=datetime.datetime(2019, 5, 30, 7, 19, 23), id=1133996309743112192, id_str='1133996309743112192', text=\"High-quality data and partnering with an experienced operator allows you to harness AI's true potential. Contact us… https://t.co/QcvYDqIp20\", truncated=True, entities={'hashtags': [], 'symbols': [], 'user_mentions': [], 'urls': [{'url': 'https://t.co/QcvYDqIp20', 'expanded_url': 'https://twitter.com/i/web/status/1133996309743112192', 'display_url': 'twitter.com/i/web/status/1…', 'indices': [117, 140]}]}, metadata={'iso_language_code': 'en', 'result_type': 'recent'}, source='Twitter Ads Composer', source_url='https://ads-api.twitter.com', in_reply_to_status_id=None, in_reply_to_status_id_str=None, in_reply_to_user_id=None, in_reply_to_user_id_str=None, in_reply_to_screen_name=None, author=User(_api=<tweepy.api.API object at 0x000001636A2F7608>, _json={'id': 1014861853338398720, 'id_str': '1014861853338398720', 'name': 'Refinitiv', 'screen_name': 'Refinitiv', 'location': 'Global', 'description': 'One of the world’s largest providers of financial markets data and infrastructure, serving 40k+ firms in 190+ countries. Data is just the beginning. #Refinitiv', 'url': 'https://t.co/cv4nr3WUwo', 'entities': {'url': {'urls': [{'url': 'https://t.co/cv4nr3WUwo', 'expanded_url': 'https://www.refinitiv.com', 'display_url': 'refinitiv.com', 'indices': [0, 23]}]}, 'description': {'urls': []}}, 'protected': False, 'followers_count': 9892, 'friends_count': 141, 'listed_count': 85, 'created_at': 'Thu Jul 05 13:21:35 +0000 2018', 'favourites_count': 107, 'utc_offset': None, 'time_zone': None, 'geo_enabled': False, 'verified': True, 'statuses_count': 1104, 'lang': None, 'contributors_enabled': False, 'is_translator': False, 'is_translation_enabled': False, 'profile_background_color': '000000', 'profile_background_image_url': 'http://abs.twimg.com/images/themes/theme1/bg.png', 'profile_background_image_url_https': 'https://abs.twimg.com/images/themes/theme1/bg.png', 'profile_background_tile': False, 'profile_image_url': 'http://pbs.twimg.com/profile_images/1046851925889638401/Hnw877Pl_normal.jpg', 'profile_image_url_https': 'https://pbs.twimg.com/profile_images/1046851925889638401/Hnw877Pl_normal.jpg', 'profile_banner_url': 'https://pbs.twimg.com/profile_banners/1014861853338398720/1557045840', 'profile_link_color': '001EFF', 'profile_sidebar_border_color': '000000', 'profile_sidebar_fill_color': '000000', 'profile_text_color': '000000', 'profile_use_background_image': False, 'has_extended_profile': False, 'default_profile': False, 'default_profile_image': False, 'following': False, 'follow_request_sent': False, 'notifications': False, 'translator_type': 'none'}, id=1014861853338398720, id_str='1014861853338398720', name='Refinitiv', screen_name='Refinitiv', location='Global', description='One of the world’s largest providers of financial markets data and infrastructure, serving 40k+ firms in 190+ countries. Data is just the beginning. #Refinitiv', url='https://t.co/cv4nr3WUwo', entities={'url': {'urls': [{'url': 'https://t.co/cv4nr3WUwo', 'expanded_url': 'https://www.refinitiv.com', 'display_url': 'refinitiv.com', 'indices': [0, 23]}]}, 'description': {'urls': []}}, protected=False, followers_count=9892, friends_count=141, listed_count=85, created_at=datetime.datetime(2018, 7, 5, 13, 21, 35), favourites_count=107, utc_offset=None, time_zone=None, geo_enabled=False, verified=True, statuses_count=1104, lang=None, contributors_enabled=False, is_translator=False, is_translation_enabled=False, profile_background_color='000000', profile_background_image_url='http://abs.twimg.com/images/themes/theme1/bg.png', profile_background_image_url_https='https://abs.twimg.com/images/themes/theme1/bg.png', profile_background_tile=False, profile_image_url='http://pbs.twimg.com/profile_images/1046851925889638401/Hnw877Pl_normal.jpg', profile_image_url_https='https://pbs.twimg.com/profile_images/1046851925889638401/Hnw877Pl_normal.jpg', profile_banner_url='https://pbs.twimg.com/profile_banners/1014861853338398720/1557045840', profile_link_color='001EFF', profile_sidebar_border_color='000000', profile_sidebar_fill_color='000000', profile_text_color='000000', profile_use_background_image=False, has_extended_profile=False, default_profile=False, default_profile_image=False, following=False, follow_request_sent=False, notifications=False, translator_type='none'), user=User(_api=<tweepy.api.API object at 0x000001636A2F7608>, _json={'id': 1014861853338398720, 'id_str': '1014861853338398720', 'name': 'Refinitiv', 'screen_name': 'Refinitiv', 'location': 'Global', 'description': 'One of the world’s largest providers of financial markets data and infrastructure, serving 40k+ firms in 190+ countries. Data is just the beginning. #Refinitiv', 'url': 'https://t.co/cv4nr3WUwo', 'entities': {'url': {'urls': [{'url': 'https://t.co/cv4nr3WUwo', 'expanded_url': 'https://www.refinitiv.com', 'display_url': 'refinitiv.com', 'indices': [0, 23]}]}, 'description': {'urls': []}}, 'protected': False, 'followers_count': 9892, 'friends_count': 141, 'listed_count': 85, 'created_at': 'Thu Jul 05 13:21:35 +0000 2018', 'favourites_count': 107, 'utc_offset': None, 'time_zone': None, 'geo_enabled': False, 'verified': True, 'statuses_count': 1104, 'lang': None, 'contributors_enabled': False, 'is_translator': False, 'is_translation_enabled': False, 'profile_background_color': '000000', 'profile_background_image_url': 'http://abs.twimg.com/images/themes/theme1/bg.png', 'profile_background_image_url_https': 'https://abs.twimg.com/images/themes/theme1/bg.png', 'profile_background_tile': False, 'profile_image_url': 'http://pbs.twimg.com/profile_images/1046851925889638401/Hnw877Pl_normal.jpg', 'profile_image_url_https': 'https://pbs.twimg.com/profile_images/1046851925889638401/Hnw877Pl_normal.jpg', 'profile_banner_url': 'https://pbs.twimg.com/profile_banners/1014861853338398720/1557045840', 'profile_link_color': '001EFF', 'profile_sidebar_border_color': '000000', 'profile_sidebar_fill_color': '000000', 'profile_text_color': '000000', 'profile_use_background_image': False, 'has_extended_profile': False, 'default_profile': False, 'default_profile_image': False, 'following': False, 'follow_request_sent': False, 'notifications': False, 'translator_type': 'none'}, id=1014861853338398720, id_str='1014861853338398720', name='Refinitiv', screen_name='Refinitiv', location='Global', description='One of the world’s largest providers of financial markets data and infrastructure, serving 40k+ firms in 190+ countries. Data is just the beginning. #Refinitiv', url='https://t.co/cv4nr3WUwo', entities={'url': {'urls': [{'url': 'https://t.co/cv4nr3WUwo', 'expanded_url': 'https://www.refinitiv.com', 'display_url': 'refinitiv.com', 'indices': [0, 23]}]}, 'description': {'urls': []}}, protected=False, followers_count=9892, friends_count=141, listed_count=85, created_at=datetime.datetime(2018, 7, 5, 13, 21, 35), favourites_count=107, utc_offset=None, time_zone=None, geo_enabled=False, verified=True, statuses_count=1104, lang=None, contributors_enabled=False, is_translator=False, is_translation_enabled=False, profile_background_color='000000', profile_background_image_url='http://abs.twimg.com/images/themes/theme1/bg.png', profile_background_image_url_https='https://abs.twimg.com/images/themes/theme1/bg.png', profile_background_tile=False, profile_image_url='http://pbs.twimg.com/profile_images/1046851925889638401/Hnw877Pl_normal.jpg', profile_image_url_https='https://pbs.twimg.com/profile_images/1046851925889638401/Hnw877Pl_normal.jpg', profile_banner_url='https://pbs.twimg.com/profile_banners/1014861853338398720/1557045840', profile_link_color='001EFF', profile_sidebar_border_color='000000', profile_sidebar_fill_color='000000', profile_text_color='000000', profile_use_background_image=False, has_extended_profile=False, default_profile=False, default_profile_image=False, following=False, follow_request_sent=False, notifications=False, translator_type='none'), geo=None, coordinates=None, place=None, contributors=None, is_quote_status=False, retweet_count=217, favorite_count=2133, favorited=False, retweeted=False, possibly_sensitive=False, scopes={'followers': False}, lang='en'), is_quote_status=False, retweet_count=217, favorite_count=0, favorited=False, retweeted=False, lang='en')"
      ]
     },
     "execution_count": 35,
     "metadata": {},
     "output_type": "execute_result"
    }
   ],
   "source": [
    "tweets[0]"
   ]
  },
  {
   "cell_type": "code",
   "execution_count": 36,
   "metadata": {},
   "outputs": [
    {
     "data": {
      "text/plain": [
       "\"RT @Refinitiv: High-quality data and partnering with an experienced operator allows you to harness AI's true potential. Contact us: https:/…\""
      ]
     },
     "execution_count": 36,
     "metadata": {},
     "output_type": "execute_result"
    }
   ],
   "source": [
    "tweets[0].text"
   ]
  },
  {
   "cell_type": "code",
   "execution_count": 37,
   "metadata": {
    "colab": {
     "base_uri": "https://localhost:8080/",
     "height": 376
    },
    "colab_type": "code",
    "id": "i41rn4KkG-iz",
    "outputId": "0243083f-626d-4df7-e974-f51e1e9d7790"
   },
   "outputs": [
    {
     "data": {
      "text/html": [
       "<div>\n",
       "<style scoped>\n",
       "    .dataframe tbody tr th:only-of-type {\n",
       "        vertical-align: middle;\n",
       "    }\n",
       "\n",
       "    .dataframe tbody tr th {\n",
       "        vertical-align: top;\n",
       "    }\n",
       "\n",
       "    .dataframe thead th {\n",
       "        text-align: right;\n",
       "    }\n",
       "</style>\n",
       "<table border=\"1\" class=\"dataframe\">\n",
       "  <thead>\n",
       "    <tr style=\"text-align: right;\">\n",
       "      <th></th>\n",
       "      <th>Tweets</th>\n",
       "    </tr>\n",
       "  </thead>\n",
       "  <tbody>\n",
       "    <tr>\n",
       "      <td>0</td>\n",
       "      <td>RT @Refinitiv: High-quality data and partnerin...</td>\n",
       "    </tr>\n",
       "    <tr>\n",
       "      <td>1</td>\n",
       "      <td>https://t.co/BZJUJkkKXp</td>\n",
       "    </tr>\n",
       "    <tr>\n",
       "      <td>2</td>\n",
       "      <td>#Lipper Fund Flows - Breakingviews: Fiat can’t...</td>\n",
       "    </tr>\n",
       "    <tr>\n",
       "      <td>3</td>\n",
       "      <td>Refinitiv acquisition is a strong strategic fi...</td>\n",
       "    </tr>\n",
       "    <tr>\n",
       "      <td>4</td>\n",
       "      <td>RT @GavanNolan: David Schwimmer, CEO of LSE - ...</td>\n",
       "    </tr>\n",
       "    <tr>\n",
       "      <td>5</td>\n",
       "      <td>David Schwimmer, CEO of LSE - Refinitiv deal p...</td>\n",
       "    </tr>\n",
       "    <tr>\n",
       "      <td>6</td>\n",
       "      <td>Find out why it’s not just asset managers driv...</td>\n",
       "    </tr>\n",
       "    <tr>\n",
       "      <td>7</td>\n",
       "      <td>RT @Refinitiv: What does the future of #tradin...</td>\n",
       "    </tr>\n",
       "    <tr>\n",
       "      <td>8</td>\n",
       "      <td>RT @Refinitiv: Processing data can cost you bo...</td>\n",
       "    </tr>\n",
       "    <tr>\n",
       "      <td>9</td>\n",
       "      <td>RT @davidwicraig: Congratulations to @Accentur...</td>\n",
       "    </tr>\n",
       "  </tbody>\n",
       "</table>\n",
       "</div>"
      ],
      "text/plain": [
       "                                              Tweets\n",
       "0  RT @Refinitiv: High-quality data and partnerin...\n",
       "1                            https://t.co/BZJUJkkKXp\n",
       "2  #Lipper Fund Flows - Breakingviews: Fiat can’t...\n",
       "3  Refinitiv acquisition is a strong strategic fi...\n",
       "4  RT @GavanNolan: David Schwimmer, CEO of LSE - ...\n",
       "5  David Schwimmer, CEO of LSE - Refinitiv deal p...\n",
       "6  Find out why it’s not just asset managers driv...\n",
       "7  RT @Refinitiv: What does the future of #tradin...\n",
       "8  RT @Refinitiv: Processing data can cost you bo...\n",
       "9  RT @davidwicraig: Congratulations to @Accentur..."
      ]
     },
     "metadata": {},
     "output_type": "display_data"
    },
    {
     "name": "stdout",
     "output_type": "stream",
     "text": [
      "2019-09-19 10:42:14\n"
     ]
    }
   ],
   "source": [
    "data = pd.DataFrame(data=[tweet.text for tweet in tweets], columns=['Tweets'])\n",
    "\n",
    "display(data.head(10))\n",
    "\n",
    "\n",
    "print(tweets[0].created_at)"
   ]
  },
  {
   "cell_type": "code",
   "execution_count": 38,
   "metadata": {
    "colab": {
     "base_uri": "https://localhost:8080/",
     "height": 69
    },
    "colab_type": "code",
    "id": "6k_z5lpRIN4t",
    "outputId": "e5f77812-a407-4ed0-8198-240dd01b2bec",
    "scrolled": true
   },
   "outputs": [
    {
     "name": "stderr",
     "output_type": "stream",
     "text": [
      "[nltk_data] Downloading package vader_lexicon to\n",
      "[nltk_data]     C:\\Users\\U6077221\\AppData\\Roaming\\nltk_data...\n",
      "[nltk_data]   Package vader_lexicon is already up-to-date!\n"
     ]
    },
    {
     "data": {
      "text/plain": [
       "True"
      ]
     },
     "execution_count": 38,
     "metadata": {},
     "output_type": "execute_result"
    }
   ],
   "source": [
    "# import nltk\n",
    "# nltk.download('vader_lexicon')"
   ]
  },
  {
   "cell_type": "code",
   "execution_count": 39,
   "metadata": {},
   "outputs": [
    {
     "name": "stdout",
     "output_type": "stream",
     "text": [
      "(0, Tweets    RT @Refinitiv: High-quality data and partnerin...\n",
      "Name: 0, dtype: object)\n",
      "(1, Tweets    https://t.co/BZJUJkkKXp\n",
      "Name: 1, dtype: object)\n",
      "(2, Tweets    #Lipper Fund Flows - Breakingviews: Fiat can’t...\n",
      "Name: 2, dtype: object)\n",
      "------\n",
      "0 Tweets    RT @Refinitiv: High-quality data and partnerin...\n",
      "Name: 0, dtype: object\n",
      "1 Tweets    https://t.co/BZJUJkkKXp\n",
      "Name: 1, dtype: object\n",
      "2 Tweets    #Lipper Fund Flows - Breakingviews: Fiat can’t...\n",
      "Name: 2, dtype: object\n",
      "------\n",
      "0 RT @Refinitiv: High-quality data and partnering with an experienced operator allows you to harness AI's true potential. Contact us: https:/…\n",
      "1 https://t.co/BZJUJkkKXp\n",
      "2 #Lipper Fund Flows - Breakingviews: Fiat can’t wait forever for Renault to sort itself https://t.co/6SxLvbiOQ7\n"
     ]
    }
   ],
   "source": [
    "for index in data.head(3).iterrows():\n",
    "    print(index)\n",
    "    \n",
    "print('------')\n",
    "\n",
    "for index,row in data.head(3).iterrows(): #row stored as Series\n",
    "    print(index,row)\n",
    "    \n",
    "print('------')\n",
    "\n",
    "for index,row in data.head(3).iterrows():\n",
    "    print(index,row['Tweets'])"
   ]
  },
  {
   "cell_type": "code",
   "execution_count": 40,
   "metadata": {},
   "outputs": [
    {
     "name": "stdout",
     "output_type": "stream",
     "text": [
      "Pandas(Index=0, Tweets=\"RT @Refinitiv: High-quality data and partnering with an experienced operator allows you to harness AI's true potential. Contact us: https:/…\")\n",
      "Pandas(Index=1, Tweets='https://t.co/BZJUJkkKXp')\n",
      "Pandas(Index=2, Tweets='#Lipper Fund Flows - Breakingviews: Fiat can’t wait forever for Renault to sort itself https://t.co/6SxLvbiOQ7')\n",
      "------\n",
      "0 RT @Refinitiv: High-quality data and partnering with an experienced operator allows you to harness AI's true potential. Contact us: https:/…\n",
      "1 https://t.co/BZJUJkkKXp\n",
      "2 #Lipper Fund Flows - Breakingviews: Fiat can’t wait forever for Renault to sort itself https://t.co/6SxLvbiOQ7\n",
      "------\n",
      "0 RT @Refinitiv: High-quality data and partnering with an experienced operator allows you to harness AI's true potential. Contact us: https:/…\n",
      "1 https://t.co/BZJUJkkKXp\n",
      "2 #Lipper Fund Flows - Breakingviews: Fiat can’t wait forever for Renault to sort itself https://t.co/6SxLvbiOQ7\n"
     ]
    }
   ],
   "source": [
    "for index in data.head(3).itertuples():\n",
    "    print(index)\n",
    "    \n",
    "print('------')\n",
    "\n",
    "for index,row in data.head(3).itertuples():\n",
    "    print(index,row) #row stored as namedtuples\n",
    "    \n",
    "print('------')\n",
    "\n",
    "for index,row in data.head(3).iterrows():\n",
    "    print(index,row.Tweets)"
   ]
  },
  {
   "cell_type": "code",
   "execution_count": 41,
   "metadata": {
    "colab": {
     "base_uri": "https://localhost:8080/",
     "height": 1969
    },
    "colab_type": "code",
    "id": "kQiYGQEqIZ3w",
    "outputId": "35c11ad4-4e98-4d25-c32a-0b627a3e5d90"
   },
   "outputs": [
    {
     "data": {
      "text/html": [
       "<div>\n",
       "<style scoped>\n",
       "    .dataframe tbody tr th:only-of-type {\n",
       "        vertical-align: middle;\n",
       "    }\n",
       "\n",
       "    .dataframe tbody tr th {\n",
       "        vertical-align: top;\n",
       "    }\n",
       "\n",
       "    .dataframe thead th {\n",
       "        text-align: right;\n",
       "    }\n",
       "</style>\n",
       "<table border=\"1\" class=\"dataframe\">\n",
       "  <thead>\n",
       "    <tr style=\"text-align: right;\">\n",
       "      <th></th>\n",
       "      <th>Tweets</th>\n",
       "      <th>polarity</th>\n",
       "    </tr>\n",
       "  </thead>\n",
       "  <tbody>\n",
       "    <tr>\n",
       "      <td>0</td>\n",
       "      <td>RT @Refinitiv: High-quality data and partnerin...</td>\n",
       "      <td>{'neg': 0.0, 'neu': 0.872, 'pos': 0.128, 'comp...</td>\n",
       "    </tr>\n",
       "    <tr>\n",
       "      <td>1</td>\n",
       "      <td>https://t.co/BZJUJkkKXp</td>\n",
       "      <td>{'neg': 0.0, 'neu': 1.0, 'pos': 0.0, 'compound...</td>\n",
       "    </tr>\n",
       "    <tr>\n",
       "      <td>2</td>\n",
       "      <td>#Lipper Fund Flows - Breakingviews: Fiat can’t...</td>\n",
       "      <td>{'neg': 0.0, 'neu': 1.0, 'pos': 0.0, 'compound...</td>\n",
       "    </tr>\n",
       "    <tr>\n",
       "      <td>3</td>\n",
       "      <td>Refinitiv acquisition is a strong strategic fi...</td>\n",
       "      <td>{'neg': 0.0, 'neu': 0.649, 'pos': 0.351, 'comp...</td>\n",
       "    </tr>\n",
       "    <tr>\n",
       "      <td>4</td>\n",
       "      <td>RT @GavanNolan: David Schwimmer, CEO of LSE - ...</td>\n",
       "      <td>{'neg': 0.0, 'neu': 0.885, 'pos': 0.115, 'comp...</td>\n",
       "    </tr>\n",
       "    <tr>\n",
       "      <td>...</td>\n",
       "      <td>...</td>\n",
       "      <td>...</td>\n",
       "    </tr>\n",
       "    <tr>\n",
       "      <td>95</td>\n",
       "      <td>@Refinitiv good project</td>\n",
       "      <td>{'neg': 0.0, 'neu': 0.408, 'pos': 0.592, 'comp...</td>\n",
       "    </tr>\n",
       "    <tr>\n",
       "      <td>96</td>\n",
       "      <td>RT @Refinitiv: Keep up with the challenge of e...</td>\n",
       "      <td>{'neg': 0.0, 'neu': 0.933, 'pos': 0.067, 'comp...</td>\n",
       "    </tr>\n",
       "    <tr>\n",
       "      <td>97</td>\n",
       "      <td>RT @Refinitiv: KYC can be costly with lengthy ...</td>\n",
       "      <td>{'neg': 0.062, 'neu': 0.938, 'pos': 0.0, 'comp...</td>\n",
       "    </tr>\n",
       "    <tr>\n",
       "      <td>98</td>\n",
       "      <td>RT @Refinitiv: Discover the latest thought lea...</td>\n",
       "      <td>{'neg': 0.0, 'neu': 0.738, 'pos': 0.262, 'comp...</td>\n",
       "    </tr>\n",
       "    <tr>\n",
       "      <td>99</td>\n",
       "      <td>RT @Refinitiv: Our data is helping you solve t...</td>\n",
       "      <td>{'neg': 0.0, 'neu': 0.751, 'pos': 0.249, 'comp...</td>\n",
       "    </tr>\n",
       "  </tbody>\n",
       "</table>\n",
       "<p>100 rows × 2 columns</p>\n",
       "</div>"
      ],
      "text/plain": [
       "                                               Tweets  \\\n",
       "0   RT @Refinitiv: High-quality data and partnerin...   \n",
       "1                             https://t.co/BZJUJkkKXp   \n",
       "2   #Lipper Fund Flows - Breakingviews: Fiat can’t...   \n",
       "3   Refinitiv acquisition is a strong strategic fi...   \n",
       "4   RT @GavanNolan: David Schwimmer, CEO of LSE - ...   \n",
       "..                                                ...   \n",
       "95                            @Refinitiv good project   \n",
       "96  RT @Refinitiv: Keep up with the challenge of e...   \n",
       "97  RT @Refinitiv: KYC can be costly with lengthy ...   \n",
       "98  RT @Refinitiv: Discover the latest thought lea...   \n",
       "99  RT @Refinitiv: Our data is helping you solve t...   \n",
       "\n",
       "                                             polarity  \n",
       "0   {'neg': 0.0, 'neu': 0.872, 'pos': 0.128, 'comp...  \n",
       "1   {'neg': 0.0, 'neu': 1.0, 'pos': 0.0, 'compound...  \n",
       "2   {'neg': 0.0, 'neu': 1.0, 'pos': 0.0, 'compound...  \n",
       "3   {'neg': 0.0, 'neu': 0.649, 'pos': 0.351, 'comp...  \n",
       "4   {'neg': 0.0, 'neu': 0.885, 'pos': 0.115, 'comp...  \n",
       "..                                                ...  \n",
       "95  {'neg': 0.0, 'neu': 0.408, 'pos': 0.592, 'comp...  \n",
       "96  {'neg': 0.0, 'neu': 0.933, 'pos': 0.067, 'comp...  \n",
       "97  {'neg': 0.062, 'neu': 0.938, 'pos': 0.0, 'comp...  \n",
       "98  {'neg': 0.0, 'neu': 0.738, 'pos': 0.262, 'comp...  \n",
       "99  {'neg': 0.0, 'neu': 0.751, 'pos': 0.249, 'comp...  \n",
       "\n",
       "[100 rows x 2 columns]"
      ]
     },
     "metadata": {},
     "output_type": "display_data"
    }
   ],
   "source": [
    "sid = SentimentIntensityAnalyzer()\n",
    "\n",
    "\n",
    "listy = []\n",
    "\n",
    "for index, row in data.iterrows():\n",
    "  ss = sid.polarity_scores(row[\"Tweets\"])\n",
    "  listy.append(ss)\n",
    "  \n",
    "se = pd.Series(listy)\n",
    "data['polarity'] = se.values\n",
    "\n",
    "display(data.head(100))"
   ]
  },
  {
   "cell_type": "code",
   "execution_count": 43,
   "metadata": {},
   "outputs": [
    {
     "data": {
      "text/plain": [
       "{'neg': 0.0, 'neu': 0.872, 'pos': 0.128, 'compound': 0.4215}"
      ]
     },
     "execution_count": 43,
     "metadata": {},
     "output_type": "execute_result"
    }
   ],
   "source": [
    "data.loc[0,'polarity']"
   ]
  },
  {
   "cell_type": "code",
   "execution_count": null,
   "metadata": {},
   "outputs": [],
   "source": []
  }
 ],
 "metadata": {
  "colab": {
   "name": "Untitled29.ipynb",
   "provenance": [],
   "version": "0.3.2"
  },
  "kernelspec": {
   "display_name": "Python 3",
   "language": "python",
   "name": "python3"
  },
  "language_info": {
   "codemirror_mode": {
    "name": "ipython",
    "version": 3
   },
   "file_extension": ".py",
   "mimetype": "text/x-python",
   "name": "python",
   "nbconvert_exporter": "python",
   "pygments_lexer": "ipython3",
   "version": "3.7.4"
  }
 },
 "nbformat": 4,
 "nbformat_minor": 1
}
